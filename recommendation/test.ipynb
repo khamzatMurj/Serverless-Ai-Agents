{
 "cells": [
  {
   "cell_type": "code",
   "execution_count": 2,
   "metadata": {},
   "outputs": [],
   "source": [
    "import pandas as pd"
   ]
  },
  {
   "cell_type": "code",
   "execution_count": 3,
   "metadata": {},
   "outputs": [
    {
     "name": "stderr",
     "output_type": "stream",
     "text": [
      "<>:1: SyntaxWarning: invalid escape sequence '\\p'\n",
      "<>:1: SyntaxWarning: invalid escape sequence '\\p'\n",
      "C:\\Users\\Hamza\\AppData\\Local\\Temp\\ipykernel_2572\\2284443595.py:1: SyntaxWarning: invalid escape sequence '\\p'\n",
      "  popular_recommendations = pd.read_csv(\".\\popularity_recommendation.csv\")\n"
     ]
    }
   ],
   "source": [
    "popular_recommendations = pd.read_csv(\".\\popularity_recommendation.csv\")"
   ]
  },
  {
   "cell_type": "code",
   "execution_count": 4,
   "metadata": {},
   "outputs": [
    {
     "data": {
      "text/html": [
       "<div>\n",
       "<style scoped>\n",
       "    .dataframe tbody tr th:only-of-type {\n",
       "        vertical-align: middle;\n",
       "    }\n",
       "\n",
       "    .dataframe tbody tr th {\n",
       "        vertical-align: top;\n",
       "    }\n",
       "\n",
       "    .dataframe thead th {\n",
       "        text-align: right;\n",
       "    }\n",
       "</style>\n",
       "<table border=\"1\" class=\"dataframe\">\n",
       "  <thead>\n",
       "    <tr style=\"text-align: right;\">\n",
       "      <th></th>\n",
       "      <th>product</th>\n",
       "      <th>product_category</th>\n",
       "      <th>number_of_transactions</th>\n",
       "    </tr>\n",
       "  </thead>\n",
       "  <tbody>\n",
       "    <tr>\n",
       "      <th>0</th>\n",
       "      <td>Almond Croissant</td>\n",
       "      <td>Bakery</td>\n",
       "      <td>347</td>\n",
       "    </tr>\n",
       "    <tr>\n",
       "      <th>1</th>\n",
       "      <td>Cappuccino</td>\n",
       "      <td>Coffee</td>\n",
       "      <td>1290</td>\n",
       "    </tr>\n",
       "    <tr>\n",
       "      <th>2</th>\n",
       "      <td>Carmel syrup</td>\n",
       "      <td>Flavours</td>\n",
       "      <td>561</td>\n",
       "    </tr>\n",
       "    <tr>\n",
       "      <th>3</th>\n",
       "      <td>Chocolate Chip Biscotti</td>\n",
       "      <td>Bakery</td>\n",
       "      <td>352</td>\n",
       "    </tr>\n",
       "    <tr>\n",
       "      <th>4</th>\n",
       "      <td>Chocolate Croissant</td>\n",
       "      <td>Bakery</td>\n",
       "      <td>636</td>\n",
       "    </tr>\n",
       "    <tr>\n",
       "      <th>5</th>\n",
       "      <td>Chocolate syrup</td>\n",
       "      <td>Flavours</td>\n",
       "      <td>568</td>\n",
       "    </tr>\n",
       "    <tr>\n",
       "      <th>6</th>\n",
       "      <td>Cranberry Scone</td>\n",
       "      <td>Bakery</td>\n",
       "      <td>350</td>\n",
       "    </tr>\n",
       "    <tr>\n",
       "      <th>7</th>\n",
       "      <td>Croissant</td>\n",
       "      <td>Bakery</td>\n",
       "      <td>355</td>\n",
       "    </tr>\n",
       "    <tr>\n",
       "      <th>8</th>\n",
       "      <td>Dark chocolate</td>\n",
       "      <td>Drinking Chocolate</td>\n",
       "      <td>947</td>\n",
       "    </tr>\n",
       "    <tr>\n",
       "      <th>9</th>\n",
       "      <td>Dark chocolate</td>\n",
       "      <td>Packaged Chocolate</td>\n",
       "      <td>22</td>\n",
       "    </tr>\n",
       "    <tr>\n",
       "      <th>10</th>\n",
       "      <td>Espresso shot</td>\n",
       "      <td>Coffee</td>\n",
       "      <td>628</td>\n",
       "    </tr>\n",
       "    <tr>\n",
       "      <th>11</th>\n",
       "      <td>Ginger Biscotti</td>\n",
       "      <td>Bakery</td>\n",
       "      <td>314</td>\n",
       "    </tr>\n",
       "    <tr>\n",
       "      <th>12</th>\n",
       "      <td>Ginger Scone</td>\n",
       "      <td>Bakery</td>\n",
       "      <td>417</td>\n",
       "    </tr>\n",
       "    <tr>\n",
       "      <th>13</th>\n",
       "      <td>Hazelnut Biscotti</td>\n",
       "      <td>Bakery</td>\n",
       "      <td>338</td>\n",
       "    </tr>\n",
       "    <tr>\n",
       "      <th>14</th>\n",
       "      <td>Hazelnut syrup</td>\n",
       "      <td>Flavours</td>\n",
       "      <td>512</td>\n",
       "    </tr>\n",
       "    <tr>\n",
       "      <th>15</th>\n",
       "      <td>Jumbo Savory Scone</td>\n",
       "      <td>Bakery</td>\n",
       "      <td>357</td>\n",
       "    </tr>\n",
       "    <tr>\n",
       "      <th>16</th>\n",
       "      <td>Latte</td>\n",
       "      <td>Coffee</td>\n",
       "      <td>1256</td>\n",
       "    </tr>\n",
       "    <tr>\n",
       "      <th>17</th>\n",
       "      <td>Oatmeal Scone</td>\n",
       "      <td>Bakery</td>\n",
       "      <td>334</td>\n",
       "    </tr>\n",
       "    <tr>\n",
       "      <th>18</th>\n",
       "      <td>Sugar Free Vanilla syrup</td>\n",
       "      <td>Flavours</td>\n",
       "      <td>605</td>\n",
       "    </tr>\n",
       "  </tbody>\n",
       "</table>\n",
       "</div>"
      ],
      "text/plain": [
       "                     product    product_category  number_of_transactions\n",
       "0           Almond Croissant              Bakery                     347\n",
       "1                 Cappuccino              Coffee                    1290\n",
       "2               Carmel syrup            Flavours                     561\n",
       "3    Chocolate Chip Biscotti              Bakery                     352\n",
       "4        Chocolate Croissant              Bakery                     636\n",
       "5            Chocolate syrup            Flavours                     568\n",
       "6            Cranberry Scone              Bakery                     350\n",
       "7                  Croissant              Bakery                     355\n",
       "8             Dark chocolate  Drinking Chocolate                     947\n",
       "9             Dark chocolate  Packaged Chocolate                      22\n",
       "10             Espresso shot              Coffee                     628\n",
       "11           Ginger Biscotti              Bakery                     314\n",
       "12              Ginger Scone              Bakery                     417\n",
       "13         Hazelnut Biscotti              Bakery                     338\n",
       "14            Hazelnut syrup            Flavours                     512\n",
       "15        Jumbo Savory Scone              Bakery                     357\n",
       "16                     Latte              Coffee                    1256\n",
       "17             Oatmeal Scone              Bakery                     334\n",
       "18  Sugar Free Vanilla syrup            Flavours                     605"
      ]
     },
     "execution_count": 4,
     "metadata": {},
     "output_type": "execute_result"
    }
   ],
   "source": [
    "popular_recommendations"
   ]
  },
  {
   "cell_type": "code",
   "execution_count": 5,
   "metadata": {},
   "outputs": [
    {
     "data": {
      "text/plain": [
       "[{'product': 'Cappuccino',\n",
       "  'product_category': 'Coffee',\n",
       "  'number_of_transactions': 1290},\n",
       " {'product': 'Latte',\n",
       "  'product_category': 'Coffee',\n",
       "  'number_of_transactions': 1256},\n",
       " {'product': 'Dark chocolate',\n",
       "  'product_category': 'Drinking Chocolate',\n",
       "  'number_of_transactions': 947},\n",
       " {'product': 'Chocolate Croissant',\n",
       "  'product_category': 'Bakery',\n",
       "  'number_of_transactions': 636},\n",
       " {'product': 'Espresso shot',\n",
       "  'product_category': 'Coffee',\n",
       "  'number_of_transactions': 628}]"
      ]
     },
     "execution_count": 5,
     "metadata": {},
     "output_type": "execute_result"
    }
   ],
   "source": [
    "top_5_popular = popular_recommendations.sort_values(by=\"number_of_transactions\", ascending=False).head(5)\n",
    "top_5_popular_products = top_5_popular[[\"product\", \"product_category\", \"number_of_transactions\"]].to_dict(orient=\"records\")\n",
    "top_5_popular_products\n"
   ]
  },
  {
   "cell_type": "code",
   "execution_count": 12,
   "metadata": {},
   "outputs": [],
   "source": [
    "import json"
   ]
  },
  {
   "cell_type": "code",
   "execution_count": 28,
   "metadata": {},
   "outputs": [],
   "source": [
    "with open(r'.\\apriori_recommendations.json', 'r') as file:\n",
    "       apriori_recommendations = json.load(file)"
   ]
  },
  {
   "cell_type": "code",
   "execution_count": 30,
   "metadata": {},
   "outputs": [
    {
     "data": {
      "text/plain": [
       "[{'product': 'Dark chocolate',\n",
       "  'product_category': 'Packaged Chocolate',\n",
       "  'confidence': 0.4967320261437908},\n",
       " {'product': 'Latte',\n",
       "  'product_category': 'Coffee',\n",
       "  'confidence': 0.47058823529411764},\n",
       " {'product': 'Cappuccino',\n",
       "  'product_category': 'Coffee',\n",
       "  'confidence': 0.46078431372549017}]"
      ]
     },
     "execution_count": 30,
     "metadata": {},
     "output_type": "execute_result"
    }
   ],
   "source": [
    "\n",
    "apriori_recommendations['Almond Croissant']"
   ]
  },
  {
   "cell_type": "code",
   "execution_count": 31,
   "metadata": {},
   "outputs": [],
   "source": [
    "recommendation_list = sorted(apriori_recommendations['Almond Croissant'],key=lambda x: x['confidence'],reverse=True)\n"
   ]
  },
  {
   "cell_type": "code",
   "execution_count": 32,
   "metadata": {},
   "outputs": [
    {
     "data": {
      "text/plain": [
       "[{'product': 'Dark chocolate',\n",
       "  'product_category': 'Packaged Chocolate',\n",
       "  'confidence': 0.4967320261437908},\n",
       " {'product': 'Latte',\n",
       "  'product_category': 'Coffee',\n",
       "  'confidence': 0.47058823529411764},\n",
       " {'product': 'Cappuccino',\n",
       "  'product_category': 'Coffee',\n",
       "  'confidence': 0.46078431372549017}]"
      ]
     },
     "execution_count": 32,
     "metadata": {},
     "output_type": "execute_result"
    }
   ],
   "source": [
    "recommendation_list"
   ]
  }
 ],
 "metadata": {
  "kernelspec": {
   "display_name": "base",
   "language": "python",
   "name": "python3"
  },
  "language_info": {
   "codemirror_mode": {
    "name": "ipython",
    "version": 3
   },
   "file_extension": ".py",
   "mimetype": "text/x-python",
   "name": "python",
   "nbconvert_exporter": "python",
   "pygments_lexer": "ipython3",
   "version": "3.12.7"
  }
 },
 "nbformat": 4,
 "nbformat_minor": 2
}
